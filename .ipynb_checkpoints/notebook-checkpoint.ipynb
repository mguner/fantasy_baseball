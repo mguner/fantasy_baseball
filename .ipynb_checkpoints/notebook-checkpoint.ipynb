{
 "cells": [
  {
   "cell_type": "code",
   "execution_count": 1,
   "metadata": {},
   "outputs": [],
   "source": [
    "import pandas as pd"
   ]
  },
  {
   "cell_type": "code",
   "execution_count": 2,
   "metadata": {},
   "outputs": [],
   "source": [
    "import requests\n",
    "from bs4 import BeautifulSoup as bs\n",
    "import pandas as pd\n",
    "from datetime import datetime\n",
    "# gather urls for each year\n",
    "def yearLinks(soup):\n",
    "    \"\"\"\n",
    "    Each year data for a player shown in a different page. \n",
    "    This function creates a list of urls from a given soup object of the player's page.\n",
    "    Parameters\n",
    "    --------\n",
    "    soup: bs4.BeautifulSoup object. Created from player's page html.\n",
    "    Returns\n",
    "    ---------\n",
    "    links: list. List of strings. Each string links to the player's page for different year's data.\n",
    "    \"\"\"\n",
    "    links = []\n",
    "    base_url = 'https://www.cbssports.com'\n",
    "    drop_down = soup.find_all('ul', 'Dropdown-list')[0]\n",
    "    for url in drop_down.find_all('a'):\n",
    "        links.append(base_url + url['href'] )\n",
    "    return links\n",
    "\n",
    "# get name and id from url\n",
    "def player_info_from_url(url):\n",
    "    player_name = url.split('/')[-2]\n",
    "    player_id = url.split('/')[-3]\n",
    "    return player_name, player_id\n",
    "\n",
    "# given year, player_name and id create the url.\n",
    "def create_url(year, player_name, player_id):\n",
    "    base = 'https://www.cbssports.com/'\n",
    "    extension = f'fantasy/baseball/players/game-log/{year}/{player_id}/{player_name}/'\n",
    "    return base+extension\n",
    "\n",
    "# from a url create soup object\n",
    "def make_soup(url):\n",
    "    response = requests.get(url)\n",
    "    soup = bs(response.content, features=\"html.parser\")\n",
    "    return soup\n",
    "\n",
    "def cell_reader(cells):\n",
    "    row_data = []\n",
    "    for c in cells:\n",
    "        if c.text:\n",
    "            row_data.append(c.text)\n",
    "        else:\n",
    "            row_data.append(c.find('a')['href'])\n",
    "    return  row_data\n",
    "\n",
    "header = ['DATE','TEAM','home/away', 'OPPONENT','RESULT',\n",
    "        'AB','R' ,'H','2B','3B','HR','RBI','BB','K',\n",
    "        'SB','CS','SH','SF','HBP','AVG','SLG','YTDOBP',\n",
    "        'FPTS']\n",
    "new_header = header + ['date']\n",
    "\n",
    "def scraper(url):\n",
    "    # to keep the list of years a player played in MLB\n",
    "    years = []\n",
    "    player_name, player_id = player_info_from_url(url)\n",
    "    # create an url for one of the player's pages.\n",
    "    player_url = create_url('2021', player_name, player_id)\n",
    "        # create soup\n",
    "    soup = make_soup(player_url)\n",
    "        # create links for each year\n",
    "    links = yearLinks(soup)\n",
    "    body = []\n",
    "    for url in links:\n",
    "        # get the year\n",
    "        year = url.split('/')[-4]\n",
    "        # soup for a particular year data\n",
    "        soup = make_soup(url)\n",
    "        try:\n",
    "            years.append(year)\n",
    "            table = soup.find('table', 'data compact')\n",
    "            for month in table.findAll('tbody'):\n",
    "                for row in month.findAll('tr'):\n",
    "                    cells = row.findAll('td')\n",
    "                    row_data = cell_reader(cells)\n",
    "                    day = row_data[0]\n",
    "                    date = datetime.strptime(day+ '/' + year, '%m/%d/%Y' )\n",
    "                    row_data.append(date)\n",
    "                    body.append(row_data)\n",
    "        except:\n",
    "            print('No content for:', url)\n",
    "    df = pd.DataFrame(body, columns= new_header)\n",
    "    df.loc[:, 'AB': 'HBP'] = df.loc[:,'AB': 'HBP'].astype(int)\n",
    "    df.loc[:, 'AVG': 'FPTS'] = df.loc[:, 'AVG': 'FPTS'].astype(float)\n",
    "    df['dayofweek'] = df.date.dt.dayofweek\n",
    "    df['Year'] = df.date.dt.year\n",
    "    return df, years\n",
    "\n",
    "# Hits divided by At Bats\n",
    "def daily_avg(df):\n",
    "    avg = df.H/df.AB\n",
    "    return avg.fillna(0)\n",
    "\n",
    "# Hits + Walks + Hit By Pitch) divided by (At-bats + Walks + Hit By Pitch + Sacrifices)\n",
    "def daily_obp(df):\n",
    "    numerator = df.H + df.BB + df.HBP\n",
    "    denom = df.AB + df.BB + df.HBP + df.SF\n",
    "    return (numerator/denom).fillna(0)\n",
    "\n",
    "# Total number of bases divided by At-bats\n",
    "def daily_slg(df):\n",
    "    first_base = df.H - (df['2B'] + df['3B'] + df['HR'])\n",
    "    num = first_base + 2 * df['2B'] + 3*df['3B'] + df['HR']\n",
    "    return (num/df.AB).fillna(0)\n",
    "\n",
    "# returns the final version of the data\n",
    "def cbs_data(url):\n",
    "    df, years = scraper(url)\n",
    "    df['daily_avg'] = daily_avg(df)\n",
    "    df['daily_slg'] = daily_slg(df)\n",
    "    df['daily_obp'] = daily_obp(df)\n",
    "    return df, years\n",
    "\n",
    "    "
   ]
  },
  {
   "cell_type": "code",
   "execution_count": 3,
   "metadata": {},
   "outputs": [],
   "source": [
    "url = 'https://www.cbssports.com/fantasy/baseball/players/game-log/2021/2211777/ronald-acuna/'"
   ]
  },
  {
   "cell_type": "code",
   "execution_count": 4,
   "metadata": {},
   "outputs": [],
   "source": [
    "df, years = cbs_data(url)"
   ]
  },
  {
   "cell_type": "code",
   "execution_count": 10,
   "metadata": {},
   "outputs": [],
   "source": [
    "df.set_index('date', inplace = True)"
   ]
  },
  {
   "cell_type": "code",
   "execution_count": 11,
   "metadata": {},
   "outputs": [],
   "source": [
    "dataframe = df.copy()\n"
   ]
  },
  {
   "cell_type": "code",
   "execution_count": 17,
   "metadata": {},
   "outputs": [
    {
     "data": {
      "text/html": [
       "<div>\n",
       "<style scoped>\n",
       "    .dataframe tbody tr th:only-of-type {\n",
       "        vertical-align: middle;\n",
       "    }\n",
       "\n",
       "    .dataframe tbody tr th {\n",
       "        vertical-align: top;\n",
       "    }\n",
       "\n",
       "    .dataframe thead th {\n",
       "        text-align: right;\n",
       "    }\n",
       "</style>\n",
       "<table border=\"1\" class=\"dataframe\">\n",
       "  <thead>\n",
       "    <tr style=\"text-align: right;\">\n",
       "      <th></th>\n",
       "      <th>DATE</th>\n",
       "      <th>TEAM</th>\n",
       "      <th>home/away</th>\n",
       "      <th>OPPONENT</th>\n",
       "      <th>RESULT</th>\n",
       "      <th>AB</th>\n",
       "      <th>R</th>\n",
       "      <th>H</th>\n",
       "      <th>2B</th>\n",
       "      <th>3B</th>\n",
       "      <th>...</th>\n",
       "      <th>HBP</th>\n",
       "      <th>AVG</th>\n",
       "      <th>SLG</th>\n",
       "      <th>YTDOBP</th>\n",
       "      <th>FPTS</th>\n",
       "      <th>dayofweek</th>\n",
       "      <th>Year</th>\n",
       "      <th>daily_avg</th>\n",
       "      <th>daily_slg</th>\n",
       "      <th>daily_obp</th>\n",
       "    </tr>\n",
       "    <tr>\n",
       "      <th>date</th>\n",
       "      <th></th>\n",
       "      <th></th>\n",
       "      <th></th>\n",
       "      <th></th>\n",
       "      <th></th>\n",
       "      <th></th>\n",
       "      <th></th>\n",
       "      <th></th>\n",
       "      <th></th>\n",
       "      <th></th>\n",
       "      <th></th>\n",
       "      <th></th>\n",
       "      <th></th>\n",
       "      <th></th>\n",
       "      <th></th>\n",
       "      <th></th>\n",
       "      <th></th>\n",
       "      <th></th>\n",
       "      <th></th>\n",
       "      <th></th>\n",
       "      <th></th>\n",
       "    </tr>\n",
       "  </thead>\n",
       "  <tbody>\n",
       "    <tr>\n",
       "      <th>2021-04-01</th>\n",
       "      <td>04/01</td>\n",
       "      <td>/mlb/teams/ATL/atlanta-braves/</td>\n",
       "      <td>@</td>\n",
       "      <td>/mlb/teams/PHI/philadelphia-phillies/</td>\n",
       "      <td>L 3-2</td>\n",
       "      <td>4</td>\n",
       "      <td>0</td>\n",
       "      <td>2</td>\n",
       "      <td>1</td>\n",
       "      <td>0</td>\n",
       "      <td>...</td>\n",
       "      <td>0</td>\n",
       "      <td>0.500</td>\n",
       "      <td>0.750</td>\n",
       "      <td>0.500</td>\n",
       "      <td>3.5</td>\n",
       "      <td>3</td>\n",
       "      <td>2021</td>\n",
       "      <td>0.5</td>\n",
       "      <td>0.750000</td>\n",
       "      <td>0.600000</td>\n",
       "    </tr>\n",
       "    <tr>\n",
       "      <th>2021-04-03</th>\n",
       "      <td>04/03</td>\n",
       "      <td>/mlb/teams/ATL/atlanta-braves/</td>\n",
       "      <td>@</td>\n",
       "      <td>/mlb/teams/PHI/philadelphia-phillies/</td>\n",
       "      <td>L 4-0</td>\n",
       "      <td>4</td>\n",
       "      <td>0</td>\n",
       "      <td>0</td>\n",
       "      <td>0</td>\n",
       "      <td>0</td>\n",
       "      <td>...</td>\n",
       "      <td>0</td>\n",
       "      <td>0.250</td>\n",
       "      <td>0.375</td>\n",
       "      <td>0.300</td>\n",
       "      <td>-1.0</td>\n",
       "      <td>5</td>\n",
       "      <td>2021</td>\n",
       "      <td>0.0</td>\n",
       "      <td>0.000000</td>\n",
       "      <td>0.000000</td>\n",
       "    </tr>\n",
       "    <tr>\n",
       "      <th>2021-04-04</th>\n",
       "      <td>04/04</td>\n",
       "      <td>/mlb/teams/ATL/atlanta-braves/</td>\n",
       "      <td>@</td>\n",
       "      <td>/mlb/teams/PHI/philadelphia-phillies/</td>\n",
       "      <td>L 2-1</td>\n",
       "      <td>4</td>\n",
       "      <td>0</td>\n",
       "      <td>0</td>\n",
       "      <td>0</td>\n",
       "      <td>0</td>\n",
       "      <td>...</td>\n",
       "      <td>0</td>\n",
       "      <td>0.167</td>\n",
       "      <td>0.250</td>\n",
       "      <td>0.214</td>\n",
       "      <td>-1.0</td>\n",
       "      <td>6</td>\n",
       "      <td>2021</td>\n",
       "      <td>0.0</td>\n",
       "      <td>0.000000</td>\n",
       "      <td>0.000000</td>\n",
       "    </tr>\n",
       "    <tr>\n",
       "      <th>2021-04-06</th>\n",
       "      <td>04/06</td>\n",
       "      <td>/mlb/teams/ATL/atlanta-braves/</td>\n",
       "      <td>@</td>\n",
       "      <td>/mlb/teams/WAS/washington-nationals/</td>\n",
       "      <td>L 6-5</td>\n",
       "      <td>5</td>\n",
       "      <td>2</td>\n",
       "      <td>2</td>\n",
       "      <td>0</td>\n",
       "      <td>0</td>\n",
       "      <td>...</td>\n",
       "      <td>0</td>\n",
       "      <td>0.235</td>\n",
       "      <td>0.647</td>\n",
       "      <td>0.263</td>\n",
       "      <td>13.0</td>\n",
       "      <td>1</td>\n",
       "      <td>2021</td>\n",
       "      <td>0.4</td>\n",
       "      <td>0.400000</td>\n",
       "      <td>0.400000</td>\n",
       "    </tr>\n",
       "    <tr>\n",
       "      <th>2021-04-07</th>\n",
       "      <td>04/07</td>\n",
       "      <td>/mlb/teams/ATL/atlanta-braves/</td>\n",
       "      <td>@</td>\n",
       "      <td>/mlb/teams/WAS/washington-nationals/</td>\n",
       "      <td>W 7-6</td>\n",
       "      <td>6</td>\n",
       "      <td>2</td>\n",
       "      <td>3</td>\n",
       "      <td>1</td>\n",
       "      <td>0</td>\n",
       "      <td>...</td>\n",
       "      <td>0</td>\n",
       "      <td>0.304</td>\n",
       "      <td>0.652</td>\n",
       "      <td>0.333</td>\n",
       "      <td>11.5</td>\n",
       "      <td>2</td>\n",
       "      <td>2021</td>\n",
       "      <td>0.5</td>\n",
       "      <td>0.666667</td>\n",
       "      <td>0.571429</td>\n",
       "    </tr>\n",
       "  </tbody>\n",
       "</table>\n",
       "<p>5 rows × 28 columns</p>\n",
       "</div>"
      ],
      "text/plain": [
       "             DATE                            TEAM home/away  \\\n",
       "date                                                          \n",
       "2021-04-01  04/01  /mlb/teams/ATL/atlanta-braves/         @   \n",
       "2021-04-03  04/03  /mlb/teams/ATL/atlanta-braves/         @   \n",
       "2021-04-04  04/04  /mlb/teams/ATL/atlanta-braves/         @   \n",
       "2021-04-06  04/06  /mlb/teams/ATL/atlanta-braves/         @   \n",
       "2021-04-07  04/07  /mlb/teams/ATL/atlanta-braves/         @   \n",
       "\n",
       "                                         OPPONENT RESULT  AB  R  H  2B  3B  \\\n",
       "date                                                                         \n",
       "2021-04-01  /mlb/teams/PHI/philadelphia-phillies/  L 3-2   4  0  2   1   0   \n",
       "2021-04-03  /mlb/teams/PHI/philadelphia-phillies/  L 4-0   4  0  0   0   0   \n",
       "2021-04-04  /mlb/teams/PHI/philadelphia-phillies/  L 2-1   4  0  0   0   0   \n",
       "2021-04-06   /mlb/teams/WAS/washington-nationals/  L 6-5   5  2  2   0   0   \n",
       "2021-04-07   /mlb/teams/WAS/washington-nationals/  W 7-6   6  2  3   1   0   \n",
       "\n",
       "            ...  HBP    AVG    SLG  YTDOBP  FPTS  dayofweek  Year  daily_avg  \\\n",
       "date        ...                                                                \n",
       "2021-04-01  ...    0  0.500  0.750   0.500   3.5          3  2021        0.5   \n",
       "2021-04-03  ...    0  0.250  0.375   0.300  -1.0          5  2021        0.0   \n",
       "2021-04-04  ...    0  0.167  0.250   0.214  -1.0          6  2021        0.0   \n",
       "2021-04-06  ...    0  0.235  0.647   0.263  13.0          1  2021        0.4   \n",
       "2021-04-07  ...    0  0.304  0.652   0.333  11.5          2  2021        0.5   \n",
       "\n",
       "            daily_slg  daily_obp  \n",
       "date                              \n",
       "2021-04-01   0.750000   0.600000  \n",
       "2021-04-03   0.000000   0.000000  \n",
       "2021-04-04   0.000000   0.000000  \n",
       "2021-04-06   0.400000   0.400000  \n",
       "2021-04-07   0.666667   0.571429  \n",
       "\n",
       "[5 rows x 28 columns]"
      ]
     },
     "execution_count": 17,
     "metadata": {},
     "output_type": "execute_result"
    }
   ],
   "source": [
    "df.head()"
   ]
  },
  {
   "cell_type": "code",
   "execution_count": 26,
   "metadata": {},
   "outputs": [
    {
     "data": {
      "text/plain": [
       "date\n",
       "2018-04-25         NaN\n",
       "2018-04-26         NaN\n",
       "2018-04-27         NaN\n",
       "2018-04-28    0.362500\n",
       "2018-04-29    0.479167\n",
       "                ...   \n",
       "2018-09-26    0.208333\n",
       "2018-09-27    0.250000\n",
       "2018-09-28    0.375000\n",
       "2018-09-29    0.375000\n",
       "2018-09-30    0.395833\n",
       "Name: daily_avg, Length: 109, dtype: float64"
      ]
     },
     "execution_count": 26,
     "metadata": {},
     "output_type": "execute_result"
    }
   ],
   "source": [
    "dataframe.loc['2018'].daily_avg.rolling(4).mean()"
   ]
  },
  {
   "cell_type": "code",
   "execution_count": 31,
   "metadata": {},
   "outputs": [
    {
     "data": {
      "text/html": [
       "<div>\n",
       "<style scoped>\n",
       "    .dataframe tbody tr th:only-of-type {\n",
       "        vertical-align: middle;\n",
       "    }\n",
       "\n",
       "    .dataframe tbody tr th {\n",
       "        vertical-align: top;\n",
       "    }\n",
       "\n",
       "    .dataframe thead th {\n",
       "        text-align: right;\n",
       "    }\n",
       "</style>\n",
       "<table border=\"1\" class=\"dataframe\">\n",
       "  <thead>\n",
       "    <tr style=\"text-align: right;\">\n",
       "      <th></th>\n",
       "      <th>DATE</th>\n",
       "      <th>TEAM</th>\n",
       "      <th>home/away</th>\n",
       "      <th>OPPONENT</th>\n",
       "      <th>RESULT</th>\n",
       "      <th>AB</th>\n",
       "      <th>R</th>\n",
       "      <th>H</th>\n",
       "      <th>2B</th>\n",
       "      <th>3B</th>\n",
       "      <th>...</th>\n",
       "      <th>HBP</th>\n",
       "      <th>AVG</th>\n",
       "      <th>SLG</th>\n",
       "      <th>YTDOBP</th>\n",
       "      <th>FPTS</th>\n",
       "      <th>dayofweek</th>\n",
       "      <th>Year</th>\n",
       "      <th>daily_avg</th>\n",
       "      <th>daily_slg</th>\n",
       "      <th>daily_obp</th>\n",
       "    </tr>\n",
       "    <tr>\n",
       "      <th>date</th>\n",
       "      <th></th>\n",
       "      <th></th>\n",
       "      <th></th>\n",
       "      <th></th>\n",
       "      <th></th>\n",
       "      <th></th>\n",
       "      <th></th>\n",
       "      <th></th>\n",
       "      <th></th>\n",
       "      <th></th>\n",
       "      <th></th>\n",
       "      <th></th>\n",
       "      <th></th>\n",
       "      <th></th>\n",
       "      <th></th>\n",
       "      <th></th>\n",
       "      <th></th>\n",
       "      <th></th>\n",
       "      <th></th>\n",
       "      <th></th>\n",
       "      <th></th>\n",
       "    </tr>\n",
       "  </thead>\n",
       "  <tbody>\n",
       "    <tr>\n",
       "      <th>2021-04-01</th>\n",
       "      <td>04/01</td>\n",
       "      <td>/mlb/teams/ATL/atlanta-braves/</td>\n",
       "      <td>@</td>\n",
       "      <td>/mlb/teams/PHI/philadelphia-phillies/</td>\n",
       "      <td>L 3-2</td>\n",
       "      <td>4</td>\n",
       "      <td>0</td>\n",
       "      <td>2</td>\n",
       "      <td>1</td>\n",
       "      <td>0</td>\n",
       "      <td>...</td>\n",
       "      <td>0</td>\n",
       "      <td>0.500</td>\n",
       "      <td>0.750</td>\n",
       "      <td>0.500</td>\n",
       "      <td>3.5</td>\n",
       "      <td>3</td>\n",
       "      <td>2021</td>\n",
       "      <td>0.5</td>\n",
       "      <td>0.750000</td>\n",
       "      <td>0.600000</td>\n",
       "    </tr>\n",
       "    <tr>\n",
       "      <th>2021-04-03</th>\n",
       "      <td>04/03</td>\n",
       "      <td>/mlb/teams/ATL/atlanta-braves/</td>\n",
       "      <td>@</td>\n",
       "      <td>/mlb/teams/PHI/philadelphia-phillies/</td>\n",
       "      <td>L 4-0</td>\n",
       "      <td>4</td>\n",
       "      <td>0</td>\n",
       "      <td>0</td>\n",
       "      <td>0</td>\n",
       "      <td>0</td>\n",
       "      <td>...</td>\n",
       "      <td>0</td>\n",
       "      <td>0.250</td>\n",
       "      <td>0.375</td>\n",
       "      <td>0.300</td>\n",
       "      <td>-1.0</td>\n",
       "      <td>5</td>\n",
       "      <td>2021</td>\n",
       "      <td>0.0</td>\n",
       "      <td>0.000000</td>\n",
       "      <td>0.000000</td>\n",
       "    </tr>\n",
       "    <tr>\n",
       "      <th>2021-04-04</th>\n",
       "      <td>04/04</td>\n",
       "      <td>/mlb/teams/ATL/atlanta-braves/</td>\n",
       "      <td>@</td>\n",
       "      <td>/mlb/teams/PHI/philadelphia-phillies/</td>\n",
       "      <td>L 2-1</td>\n",
       "      <td>4</td>\n",
       "      <td>0</td>\n",
       "      <td>0</td>\n",
       "      <td>0</td>\n",
       "      <td>0</td>\n",
       "      <td>...</td>\n",
       "      <td>0</td>\n",
       "      <td>0.167</td>\n",
       "      <td>0.250</td>\n",
       "      <td>0.214</td>\n",
       "      <td>-1.0</td>\n",
       "      <td>6</td>\n",
       "      <td>2021</td>\n",
       "      <td>0.0</td>\n",
       "      <td>0.000000</td>\n",
       "      <td>0.000000</td>\n",
       "    </tr>\n",
       "    <tr>\n",
       "      <th>2021-04-06</th>\n",
       "      <td>04/06</td>\n",
       "      <td>/mlb/teams/ATL/atlanta-braves/</td>\n",
       "      <td>@</td>\n",
       "      <td>/mlb/teams/WAS/washington-nationals/</td>\n",
       "      <td>L 6-5</td>\n",
       "      <td>5</td>\n",
       "      <td>2</td>\n",
       "      <td>2</td>\n",
       "      <td>0</td>\n",
       "      <td>0</td>\n",
       "      <td>...</td>\n",
       "      <td>0</td>\n",
       "      <td>0.235</td>\n",
       "      <td>0.647</td>\n",
       "      <td>0.263</td>\n",
       "      <td>13.0</td>\n",
       "      <td>1</td>\n",
       "      <td>2021</td>\n",
       "      <td>0.4</td>\n",
       "      <td>0.400000</td>\n",
       "      <td>0.400000</td>\n",
       "    </tr>\n",
       "    <tr>\n",
       "      <th>2021-04-07</th>\n",
       "      <td>04/07</td>\n",
       "      <td>/mlb/teams/ATL/atlanta-braves/</td>\n",
       "      <td>@</td>\n",
       "      <td>/mlb/teams/WAS/washington-nationals/</td>\n",
       "      <td>W 7-6</td>\n",
       "      <td>6</td>\n",
       "      <td>2</td>\n",
       "      <td>3</td>\n",
       "      <td>1</td>\n",
       "      <td>0</td>\n",
       "      <td>...</td>\n",
       "      <td>0</td>\n",
       "      <td>0.304</td>\n",
       "      <td>0.652</td>\n",
       "      <td>0.333</td>\n",
       "      <td>11.5</td>\n",
       "      <td>2</td>\n",
       "      <td>2021</td>\n",
       "      <td>0.5</td>\n",
       "      <td>0.666667</td>\n",
       "      <td>0.571429</td>\n",
       "    </tr>\n",
       "  </tbody>\n",
       "</table>\n",
       "<p>5 rows × 28 columns</p>\n",
       "</div>"
      ],
      "text/plain": [
       "             DATE                            TEAM home/away  \\\n",
       "date                                                          \n",
       "2021-04-01  04/01  /mlb/teams/ATL/atlanta-braves/         @   \n",
       "2021-04-03  04/03  /mlb/teams/ATL/atlanta-braves/         @   \n",
       "2021-04-04  04/04  /mlb/teams/ATL/atlanta-braves/         @   \n",
       "2021-04-06  04/06  /mlb/teams/ATL/atlanta-braves/         @   \n",
       "2021-04-07  04/07  /mlb/teams/ATL/atlanta-braves/         @   \n",
       "\n",
       "                                         OPPONENT RESULT  AB  R  H  2B  3B  \\\n",
       "date                                                                         \n",
       "2021-04-01  /mlb/teams/PHI/philadelphia-phillies/  L 3-2   4  0  2   1   0   \n",
       "2021-04-03  /mlb/teams/PHI/philadelphia-phillies/  L 4-0   4  0  0   0   0   \n",
       "2021-04-04  /mlb/teams/PHI/philadelphia-phillies/  L 2-1   4  0  0   0   0   \n",
       "2021-04-06   /mlb/teams/WAS/washington-nationals/  L 6-5   5  2  2   0   0   \n",
       "2021-04-07   /mlb/teams/WAS/washington-nationals/  W 7-6   6  2  3   1   0   \n",
       "\n",
       "            ...  HBP    AVG    SLG  YTDOBP  FPTS  dayofweek  Year  daily_avg  \\\n",
       "date        ...                                                                \n",
       "2021-04-01  ...    0  0.500  0.750   0.500   3.5          3  2021        0.5   \n",
       "2021-04-03  ...    0  0.250  0.375   0.300  -1.0          5  2021        0.0   \n",
       "2021-04-04  ...    0  0.167  0.250   0.214  -1.0          6  2021        0.0   \n",
       "2021-04-06  ...    0  0.235  0.647   0.263  13.0          1  2021        0.4   \n",
       "2021-04-07  ...    0  0.304  0.652   0.333  11.5          2  2021        0.5   \n",
       "\n",
       "            daily_slg  daily_obp  \n",
       "date                              \n",
       "2021-04-01   0.750000   0.600000  \n",
       "2021-04-03   0.000000   0.000000  \n",
       "2021-04-04   0.000000   0.000000  \n",
       "2021-04-06   0.400000   0.400000  \n",
       "2021-04-07   0.666667   0.571429  \n",
       "\n",
       "[5 rows x 28 columns]"
      ]
     },
     "execution_count": 31,
     "metadata": {},
     "output_type": "execute_result"
    }
   ],
   "source": [
    "df.head()"
   ]
  },
  {
   "cell_type": "code",
   "execution_count": 30,
   "metadata": {},
   "outputs": [
    {
     "data": {
      "text/plain": [
       "date\n",
       "2021-04-01    0.500000\n",
       "2021-04-03    0.250000\n",
       "2021-04-04    0.166667\n",
       "2021-04-06    0.235294\n",
       "2021-04-07    0.304348\n",
       "                ...   \n",
       "2018-09-26    0.279520\n",
       "2018-09-27    0.280106\n",
       "2018-09-28    0.280981\n",
       "2018-09-29    0.280899\n",
       "2018-09-30    0.281003\n",
       "Length: 385, dtype: float64"
      ]
     },
     "execution_count": 30,
     "metadata": {},
     "output_type": "execute_result"
    }
   ],
   "source": [
    "df.H.cumsum()/ df.AB.cumsum()"
   ]
  },
  {
   "cell_type": "code",
   "execution_count": 27,
   "metadata": {},
   "outputs": [],
   "source": [
    "import plotly.graph_objects as go\n",
    "import streamlit as st\n",
    "import numpy as np\n",
    "# Create visualization\n",
    "fig = go.Figure()\n",
    "for year in ['2019', '2020']:\n",
    "    year_data_length = dataframe.loc[year].shape[0]\n",
    "    x = np.arange(year_data_length)\n",
    "    year_data = dataframe.loc[year, 'daily_avg'].rolling(4, ).mean()\n",
    "    fig.add_trace(go.Scatter(x=x, y=year_data,\n",
    "                    mode='lines',\n",
    "                    name= year + \" \" + 'daily_avg'))\n",
    "\n"
   ]
  },
  {
   "cell_type": "code",
   "execution_count": 28,
   "metadata": {},
   "outputs": [
    {
     "data": {
      "application/vnd.plotly.v1+json": {
       "config": {
        "plotlyServerURL": "https://plot.ly"
       },
       "data": [
        {
         "mode": "lines",
         "name": "2019 daily_avg",
         "type": "scatter",
         "x": [
          0,
          1,
          2,
          3,
          4,
          5,
          6,
          7,
          8,
          9,
          10,
          11,
          12,
          13,
          14,
          15,
          16,
          17,
          18,
          19,
          20,
          21,
          22,
          23,
          24,
          25,
          26,
          27,
          28,
          29,
          30,
          31,
          32,
          33,
          34,
          35,
          36,
          37,
          38,
          39,
          40,
          41,
          42,
          43,
          44,
          45,
          46,
          47,
          48,
          49,
          50,
          51,
          52,
          53,
          54,
          55,
          56,
          57,
          58,
          59,
          60,
          61,
          62,
          63,
          64,
          65,
          66,
          67,
          68,
          69,
          70,
          71,
          72,
          73,
          74,
          75,
          76,
          77,
          78,
          79,
          80,
          81,
          82,
          83,
          84,
          85,
          86,
          87,
          88,
          89,
          90,
          91,
          92,
          93,
          94,
          95,
          96,
          97,
          98,
          99,
          100,
          101,
          102,
          103,
          104,
          105,
          106,
          107,
          108,
          109,
          110,
          111,
          112,
          113,
          114,
          115,
          116,
          117,
          118,
          119,
          120,
          121,
          122,
          123,
          124,
          125,
          126,
          127,
          128,
          129,
          130,
          131,
          132,
          133,
          134,
          135,
          136,
          137,
          138,
          139,
          140,
          141,
          142,
          143,
          144,
          145,
          146,
          147,
          148,
          149,
          150,
          151,
          152,
          153,
          154
         ],
         "y": [
          null,
          null,
          null,
          0.2708333333333333,
          0.14583333333333331,
          0.14583333333333331,
          0.12499999999999999,
          0.062499999999999986,
          0.062499999999999986,
          0.22916666666666663,
          0.29166666666666663,
          0.47916666666666663,
          0.6458333333333333,
          0.5791666666666666,
          0.5375,
          0.6,
          0.49583333333333335,
          0.45833333333333337,
          0.41071428571428575,
          0.2607142857142858,
          0.2607142857142858,
          0.2607142857142858,
          0.3083333333333334,
          0.2083333333333334,
          0.27083333333333337,
          0.20833333333333337,
          0.12500000000000006,
          0.18750000000000006,
          0.06250000000000006,
          0.12500000000000006,
          0.17500000000000004,
          0.36250000000000004,
          0.36250000000000004,
          0.30000000000000004,
          0.31250000000000006,
          0.12500000000000006,
          0.18750000000000006,
          0.2875000000000001,
          0.2875000000000001,
          0.2250000000000001,
          0.2250000000000001,
          0.2500000000000001,
          0.3750000000000001,
          0.3750000000000001,
          0.3750000000000001,
          0.4375000000000001,
          0.3750000000000001,
          0.3750000000000001,
          0.3125000000000001,
          0.1750000000000001,
          0.0500000000000001,
          0.1500000000000001,
          0.20000000000000012,
          0.15000000000000013,
          0.27500000000000013,
          0.27500000000000013,
          0.28750000000000014,
          0.41250000000000014,
          0.35000000000000014,
          0.3125000000000001,
          0.40000000000000013,
          0.27500000000000013,
          0.2541666666666668,
          0.2416666666666668,
          0.2166666666666668,
          0.3166666666666668,
          0.37500000000000017,
          0.4250000000000002,
          0.3625000000000002,
          0.46250000000000024,
          0.5125000000000003,
          0.4125000000000003,
          0.3500000000000003,
          0.1500000000000003,
          0.050000000000000294,
          0.1000000000000003,
          0.2250000000000003,
          0.3083333333333336,
          0.25833333333333364,
          0.29166666666666696,
          0.21666666666666695,
          0.2833333333333336,
          0.43333333333333357,
          0.35000000000000026,
          0.36250000000000027,
          0.27500000000000024,
          0.18750000000000025,
          0.2500000000000002,
          0.3125000000000002,
          0.3125000000000002,
          0.2916666666666669,
          0.32916666666666694,
          0.26666666666666694,
          0.26666666666666694,
          0.22500000000000028,
          0.1750000000000003,
          0.30000000000000027,
          0.36250000000000027,
          0.48750000000000027,
          0.4375000000000003,
          0.3125000000000002,
          0.3125000000000002,
          0.2875000000000002,
          0.3500000000000002,
          0.2875000000000002,
          0.1625000000000002,
          0.16250000000000017,
          0.16250000000000017,
          0.22500000000000017,
          0.2750000000000002,
          0.27500000000000024,
          0.3125000000000002,
          0.40000000000000024,
          0.40000000000000024,
          0.42500000000000027,
          0.4750000000000003,
          0.3250000000000003,
          0.4000000000000003,
          0.37500000000000033,
          0.2875000000000003,
          0.3500000000000003,
          0.2750000000000003,
          0.1750000000000003,
          0.23750000000000027,
          0.23750000000000027,
          0.2708333333333336,
          0.3333333333333336,
          0.2708333333333336,
          0.2583333333333336,
          0.17500000000000027,
          0.11250000000000027,
          0.10000000000000026,
          0.10000000000000024,
          0.10000000000000024,
          0.10000000000000024,
          0.05000000000000024,
          2.3592239273284576e-16,
          0.06250000000000024,
          0.18750000000000022,
          0.2375000000000002,
          0.2375000000000002,
          0.1750000000000002,
          0.13333333333333353,
          0.23333333333333356,
          0.23333333333333356,
          0.28333333333333355,
          0.2500000000000002,
          0.1416666666666669,
          0.1416666666666669,
          0.1541666666666669,
          0.2291666666666669,
          0.27083333333333354,
          0.5208333333333335,
          0.4583333333333335,
          0.3333333333333335
         ]
        },
        {
         "mode": "lines",
         "name": "2020 daily_avg",
         "type": "scatter",
         "x": [
          0,
          1,
          2,
          3,
          4,
          5,
          6,
          7,
          8,
          9,
          10,
          11,
          12,
          13,
          14,
          15,
          16,
          17,
          18,
          19,
          20,
          21,
          22,
          23,
          24,
          25,
          26,
          27,
          28,
          29,
          30,
          31,
          32,
          33,
          34,
          35,
          36,
          37,
          38,
          39,
          40,
          41,
          42
         ],
         "y": [
          null,
          null,
          null,
          0.16666666666666666,
          0.10416666666666666,
          0.1875,
          0.14583333333333334,
          0.13333333333333336,
          0.23333333333333336,
          0.2333333333333334,
          0.3583333333333334,
          0.47500000000000003,
          0.375,
          0.2916666666666667,
          0.16666666666666669,
          0.15625000000000003,
          0.15625000000000003,
          0.25625000000000003,
          0.33958333333333335,
          0.18333333333333335,
          0.43333333333333335,
          0.44047619047619047,
          0.4404761904761905,
          0.5654761904761905,
          0.31547619047619047,
          0.20833333333333331,
          0.3125,
          0.2708333333333333,
          0.2708333333333333,
          0.3333333333333333,
          0.14583333333333331,
          0.062499999999999986,
          0.062499999999999986,
          0,
          0.12499999999999999,
          0.12499999999999999,
          0.29166666666666663,
          0.37499999999999994,
          0.29999999999999993,
          0.36249999999999993,
          0.24583333333333326,
          0.22499999999999992,
          0.17499999999999993
         ]
        }
       ],
       "layout": {
        "template": {
         "data": {
          "bar": [
           {
            "error_x": {
             "color": "#2a3f5f"
            },
            "error_y": {
             "color": "#2a3f5f"
            },
            "marker": {
             "line": {
              "color": "#E5ECF6",
              "width": 0.5
             }
            },
            "type": "bar"
           }
          ],
          "barpolar": [
           {
            "marker": {
             "line": {
              "color": "#E5ECF6",
              "width": 0.5
             }
            },
            "type": "barpolar"
           }
          ],
          "carpet": [
           {
            "aaxis": {
             "endlinecolor": "#2a3f5f",
             "gridcolor": "white",
             "linecolor": "white",
             "minorgridcolor": "white",
             "startlinecolor": "#2a3f5f"
            },
            "baxis": {
             "endlinecolor": "#2a3f5f",
             "gridcolor": "white",
             "linecolor": "white",
             "minorgridcolor": "white",
             "startlinecolor": "#2a3f5f"
            },
            "type": "carpet"
           }
          ],
          "choropleth": [
           {
            "colorbar": {
             "outlinewidth": 0,
             "ticks": ""
            },
            "type": "choropleth"
           }
          ],
          "contour": [
           {
            "colorbar": {
             "outlinewidth": 0,
             "ticks": ""
            },
            "colorscale": [
             [
              0,
              "#0d0887"
             ],
             [
              0.1111111111111111,
              "#46039f"
             ],
             [
              0.2222222222222222,
              "#7201a8"
             ],
             [
              0.3333333333333333,
              "#9c179e"
             ],
             [
              0.4444444444444444,
              "#bd3786"
             ],
             [
              0.5555555555555556,
              "#d8576b"
             ],
             [
              0.6666666666666666,
              "#ed7953"
             ],
             [
              0.7777777777777778,
              "#fb9f3a"
             ],
             [
              0.8888888888888888,
              "#fdca26"
             ],
             [
              1,
              "#f0f921"
             ]
            ],
            "type": "contour"
           }
          ],
          "contourcarpet": [
           {
            "colorbar": {
             "outlinewidth": 0,
             "ticks": ""
            },
            "type": "contourcarpet"
           }
          ],
          "heatmap": [
           {
            "colorbar": {
             "outlinewidth": 0,
             "ticks": ""
            },
            "colorscale": [
             [
              0,
              "#0d0887"
             ],
             [
              0.1111111111111111,
              "#46039f"
             ],
             [
              0.2222222222222222,
              "#7201a8"
             ],
             [
              0.3333333333333333,
              "#9c179e"
             ],
             [
              0.4444444444444444,
              "#bd3786"
             ],
             [
              0.5555555555555556,
              "#d8576b"
             ],
             [
              0.6666666666666666,
              "#ed7953"
             ],
             [
              0.7777777777777778,
              "#fb9f3a"
             ],
             [
              0.8888888888888888,
              "#fdca26"
             ],
             [
              1,
              "#f0f921"
             ]
            ],
            "type": "heatmap"
           }
          ],
          "heatmapgl": [
           {
            "colorbar": {
             "outlinewidth": 0,
             "ticks": ""
            },
            "colorscale": [
             [
              0,
              "#0d0887"
             ],
             [
              0.1111111111111111,
              "#46039f"
             ],
             [
              0.2222222222222222,
              "#7201a8"
             ],
             [
              0.3333333333333333,
              "#9c179e"
             ],
             [
              0.4444444444444444,
              "#bd3786"
             ],
             [
              0.5555555555555556,
              "#d8576b"
             ],
             [
              0.6666666666666666,
              "#ed7953"
             ],
             [
              0.7777777777777778,
              "#fb9f3a"
             ],
             [
              0.8888888888888888,
              "#fdca26"
             ],
             [
              1,
              "#f0f921"
             ]
            ],
            "type": "heatmapgl"
           }
          ],
          "histogram": [
           {
            "marker": {
             "colorbar": {
              "outlinewidth": 0,
              "ticks": ""
             }
            },
            "type": "histogram"
           }
          ],
          "histogram2d": [
           {
            "colorbar": {
             "outlinewidth": 0,
             "ticks": ""
            },
            "colorscale": [
             [
              0,
              "#0d0887"
             ],
             [
              0.1111111111111111,
              "#46039f"
             ],
             [
              0.2222222222222222,
              "#7201a8"
             ],
             [
              0.3333333333333333,
              "#9c179e"
             ],
             [
              0.4444444444444444,
              "#bd3786"
             ],
             [
              0.5555555555555556,
              "#d8576b"
             ],
             [
              0.6666666666666666,
              "#ed7953"
             ],
             [
              0.7777777777777778,
              "#fb9f3a"
             ],
             [
              0.8888888888888888,
              "#fdca26"
             ],
             [
              1,
              "#f0f921"
             ]
            ],
            "type": "histogram2d"
           }
          ],
          "histogram2dcontour": [
           {
            "colorbar": {
             "outlinewidth": 0,
             "ticks": ""
            },
            "colorscale": [
             [
              0,
              "#0d0887"
             ],
             [
              0.1111111111111111,
              "#46039f"
             ],
             [
              0.2222222222222222,
              "#7201a8"
             ],
             [
              0.3333333333333333,
              "#9c179e"
             ],
             [
              0.4444444444444444,
              "#bd3786"
             ],
             [
              0.5555555555555556,
              "#d8576b"
             ],
             [
              0.6666666666666666,
              "#ed7953"
             ],
             [
              0.7777777777777778,
              "#fb9f3a"
             ],
             [
              0.8888888888888888,
              "#fdca26"
             ],
             [
              1,
              "#f0f921"
             ]
            ],
            "type": "histogram2dcontour"
           }
          ],
          "mesh3d": [
           {
            "colorbar": {
             "outlinewidth": 0,
             "ticks": ""
            },
            "type": "mesh3d"
           }
          ],
          "parcoords": [
           {
            "line": {
             "colorbar": {
              "outlinewidth": 0,
              "ticks": ""
             }
            },
            "type": "parcoords"
           }
          ],
          "pie": [
           {
            "automargin": true,
            "type": "pie"
           }
          ],
          "scatter": [
           {
            "marker": {
             "colorbar": {
              "outlinewidth": 0,
              "ticks": ""
             }
            },
            "type": "scatter"
           }
          ],
          "scatter3d": [
           {
            "line": {
             "colorbar": {
              "outlinewidth": 0,
              "ticks": ""
             }
            },
            "marker": {
             "colorbar": {
              "outlinewidth": 0,
              "ticks": ""
             }
            },
            "type": "scatter3d"
           }
          ],
          "scattercarpet": [
           {
            "marker": {
             "colorbar": {
              "outlinewidth": 0,
              "ticks": ""
             }
            },
            "type": "scattercarpet"
           }
          ],
          "scattergeo": [
           {
            "marker": {
             "colorbar": {
              "outlinewidth": 0,
              "ticks": ""
             }
            },
            "type": "scattergeo"
           }
          ],
          "scattergl": [
           {
            "marker": {
             "colorbar": {
              "outlinewidth": 0,
              "ticks": ""
             }
            },
            "type": "scattergl"
           }
          ],
          "scattermapbox": [
           {
            "marker": {
             "colorbar": {
              "outlinewidth": 0,
              "ticks": ""
             }
            },
            "type": "scattermapbox"
           }
          ],
          "scatterpolar": [
           {
            "marker": {
             "colorbar": {
              "outlinewidth": 0,
              "ticks": ""
             }
            },
            "type": "scatterpolar"
           }
          ],
          "scatterpolargl": [
           {
            "marker": {
             "colorbar": {
              "outlinewidth": 0,
              "ticks": ""
             }
            },
            "type": "scatterpolargl"
           }
          ],
          "scatterternary": [
           {
            "marker": {
             "colorbar": {
              "outlinewidth": 0,
              "ticks": ""
             }
            },
            "type": "scatterternary"
           }
          ],
          "surface": [
           {
            "colorbar": {
             "outlinewidth": 0,
             "ticks": ""
            },
            "colorscale": [
             [
              0,
              "#0d0887"
             ],
             [
              0.1111111111111111,
              "#46039f"
             ],
             [
              0.2222222222222222,
              "#7201a8"
             ],
             [
              0.3333333333333333,
              "#9c179e"
             ],
             [
              0.4444444444444444,
              "#bd3786"
             ],
             [
              0.5555555555555556,
              "#d8576b"
             ],
             [
              0.6666666666666666,
              "#ed7953"
             ],
             [
              0.7777777777777778,
              "#fb9f3a"
             ],
             [
              0.8888888888888888,
              "#fdca26"
             ],
             [
              1,
              "#f0f921"
             ]
            ],
            "type": "surface"
           }
          ],
          "table": [
           {
            "cells": {
             "fill": {
              "color": "#EBF0F8"
             },
             "line": {
              "color": "white"
             }
            },
            "header": {
             "fill": {
              "color": "#C8D4E3"
             },
             "line": {
              "color": "white"
             }
            },
            "type": "table"
           }
          ]
         },
         "layout": {
          "annotationdefaults": {
           "arrowcolor": "#2a3f5f",
           "arrowhead": 0,
           "arrowwidth": 1
          },
          "coloraxis": {
           "colorbar": {
            "outlinewidth": 0,
            "ticks": ""
           }
          },
          "colorscale": {
           "diverging": [
            [
             0,
             "#8e0152"
            ],
            [
             0.1,
             "#c51b7d"
            ],
            [
             0.2,
             "#de77ae"
            ],
            [
             0.3,
             "#f1b6da"
            ],
            [
             0.4,
             "#fde0ef"
            ],
            [
             0.5,
             "#f7f7f7"
            ],
            [
             0.6,
             "#e6f5d0"
            ],
            [
             0.7,
             "#b8e186"
            ],
            [
             0.8,
             "#7fbc41"
            ],
            [
             0.9,
             "#4d9221"
            ],
            [
             1,
             "#276419"
            ]
           ],
           "sequential": [
            [
             0,
             "#0d0887"
            ],
            [
             0.1111111111111111,
             "#46039f"
            ],
            [
             0.2222222222222222,
             "#7201a8"
            ],
            [
             0.3333333333333333,
             "#9c179e"
            ],
            [
             0.4444444444444444,
             "#bd3786"
            ],
            [
             0.5555555555555556,
             "#d8576b"
            ],
            [
             0.6666666666666666,
             "#ed7953"
            ],
            [
             0.7777777777777778,
             "#fb9f3a"
            ],
            [
             0.8888888888888888,
             "#fdca26"
            ],
            [
             1,
             "#f0f921"
            ]
           ],
           "sequentialminus": [
            [
             0,
             "#0d0887"
            ],
            [
             0.1111111111111111,
             "#46039f"
            ],
            [
             0.2222222222222222,
             "#7201a8"
            ],
            [
             0.3333333333333333,
             "#9c179e"
            ],
            [
             0.4444444444444444,
             "#bd3786"
            ],
            [
             0.5555555555555556,
             "#d8576b"
            ],
            [
             0.6666666666666666,
             "#ed7953"
            ],
            [
             0.7777777777777778,
             "#fb9f3a"
            ],
            [
             0.8888888888888888,
             "#fdca26"
            ],
            [
             1,
             "#f0f921"
            ]
           ]
          },
          "colorway": [
           "#636efa",
           "#EF553B",
           "#00cc96",
           "#ab63fa",
           "#FFA15A",
           "#19d3f3",
           "#FF6692",
           "#B6E880",
           "#FF97FF",
           "#FECB52"
          ],
          "font": {
           "color": "#2a3f5f"
          },
          "geo": {
           "bgcolor": "white",
           "lakecolor": "white",
           "landcolor": "#E5ECF6",
           "showlakes": true,
           "showland": true,
           "subunitcolor": "white"
          },
          "hoverlabel": {
           "align": "left"
          },
          "hovermode": "closest",
          "mapbox": {
           "style": "light"
          },
          "paper_bgcolor": "white",
          "plot_bgcolor": "#E5ECF6",
          "polar": {
           "angularaxis": {
            "gridcolor": "white",
            "linecolor": "white",
            "ticks": ""
           },
           "bgcolor": "#E5ECF6",
           "radialaxis": {
            "gridcolor": "white",
            "linecolor": "white",
            "ticks": ""
           }
          },
          "scene": {
           "xaxis": {
            "backgroundcolor": "#E5ECF6",
            "gridcolor": "white",
            "gridwidth": 2,
            "linecolor": "white",
            "showbackground": true,
            "ticks": "",
            "zerolinecolor": "white"
           },
           "yaxis": {
            "backgroundcolor": "#E5ECF6",
            "gridcolor": "white",
            "gridwidth": 2,
            "linecolor": "white",
            "showbackground": true,
            "ticks": "",
            "zerolinecolor": "white"
           },
           "zaxis": {
            "backgroundcolor": "#E5ECF6",
            "gridcolor": "white",
            "gridwidth": 2,
            "linecolor": "white",
            "showbackground": true,
            "ticks": "",
            "zerolinecolor": "white"
           }
          },
          "shapedefaults": {
           "line": {
            "color": "#2a3f5f"
           }
          },
          "ternary": {
           "aaxis": {
            "gridcolor": "white",
            "linecolor": "white",
            "ticks": ""
           },
           "baxis": {
            "gridcolor": "white",
            "linecolor": "white",
            "ticks": ""
           },
           "bgcolor": "#E5ECF6",
           "caxis": {
            "gridcolor": "white",
            "linecolor": "white",
            "ticks": ""
           }
          },
          "title": {
           "x": 0.05
          },
          "xaxis": {
           "automargin": true,
           "gridcolor": "white",
           "linecolor": "white",
           "ticks": "",
           "title": {
            "standoff": 15
           },
           "zerolinecolor": "white",
           "zerolinewidth": 2
          },
          "yaxis": {
           "automargin": true,
           "gridcolor": "white",
           "linecolor": "white",
           "ticks": "",
           "title": {
            "standoff": 15
           },
           "zerolinecolor": "white",
           "zerolinewidth": 2
          }
         }
        }
       }
      },
      "text/html": [
       "<div>                            <div id=\"c146a822-43c1-43c3-879e-a4f40db223d5\" class=\"plotly-graph-div\" style=\"height:525px; width:100%;\"></div>            <script type=\"text/javascript\">                require([\"plotly\"], function(Plotly) {                    window.PLOTLYENV=window.PLOTLYENV || {};                                    if (document.getElementById(\"c146a822-43c1-43c3-879e-a4f40db223d5\")) {                    Plotly.newPlot(                        \"c146a822-43c1-43c3-879e-a4f40db223d5\",                        [{\"mode\": \"lines\", \"name\": \"2019 daily_avg\", \"type\": \"scatter\", \"x\": [0, 1, 2, 3, 4, 5, 6, 7, 8, 9, 10, 11, 12, 13, 14, 15, 16, 17, 18, 19, 20, 21, 22, 23, 24, 25, 26, 27, 28, 29, 30, 31, 32, 33, 34, 35, 36, 37, 38, 39, 40, 41, 42, 43, 44, 45, 46, 47, 48, 49, 50, 51, 52, 53, 54, 55, 56, 57, 58, 59, 60, 61, 62, 63, 64, 65, 66, 67, 68, 69, 70, 71, 72, 73, 74, 75, 76, 77, 78, 79, 80, 81, 82, 83, 84, 85, 86, 87, 88, 89, 90, 91, 92, 93, 94, 95, 96, 97, 98, 99, 100, 101, 102, 103, 104, 105, 106, 107, 108, 109, 110, 111, 112, 113, 114, 115, 116, 117, 118, 119, 120, 121, 122, 123, 124, 125, 126, 127, 128, 129, 130, 131, 132, 133, 134, 135, 136, 137, 138, 139, 140, 141, 142, 143, 144, 145, 146, 147, 148, 149, 150, 151, 152, 153, 154], \"y\": [null, null, null, 0.2708333333333333, 0.14583333333333331, 0.14583333333333331, 0.12499999999999999, 0.062499999999999986, 0.062499999999999986, 0.22916666666666663, 0.29166666666666663, 0.47916666666666663, 0.6458333333333333, 0.5791666666666666, 0.5375, 0.6, 0.49583333333333335, 0.45833333333333337, 0.41071428571428575, 0.2607142857142858, 0.2607142857142858, 0.2607142857142858, 0.3083333333333334, 0.2083333333333334, 0.27083333333333337, 0.20833333333333337, 0.12500000000000006, 0.18750000000000006, 0.06250000000000006, 0.12500000000000006, 0.17500000000000004, 0.36250000000000004, 0.36250000000000004, 0.30000000000000004, 0.31250000000000006, 0.12500000000000006, 0.18750000000000006, 0.2875000000000001, 0.2875000000000001, 0.2250000000000001, 0.2250000000000001, 0.2500000000000001, 0.3750000000000001, 0.3750000000000001, 0.3750000000000001, 0.4375000000000001, 0.3750000000000001, 0.3750000000000001, 0.3125000000000001, 0.1750000000000001, 0.0500000000000001, 0.1500000000000001, 0.20000000000000012, 0.15000000000000013, 0.27500000000000013, 0.27500000000000013, 0.28750000000000014, 0.41250000000000014, 0.35000000000000014, 0.3125000000000001, 0.40000000000000013, 0.27500000000000013, 0.2541666666666668, 0.2416666666666668, 0.2166666666666668, 0.3166666666666668, 0.37500000000000017, 0.4250000000000002, 0.3625000000000002, 0.46250000000000024, 0.5125000000000003, 0.4125000000000003, 0.3500000000000003, 0.1500000000000003, 0.050000000000000294, 0.1000000000000003, 0.2250000000000003, 0.3083333333333336, 0.25833333333333364, 0.29166666666666696, 0.21666666666666695, 0.2833333333333336, 0.43333333333333357, 0.35000000000000026, 0.36250000000000027, 0.27500000000000024, 0.18750000000000025, 0.2500000000000002, 0.3125000000000002, 0.3125000000000002, 0.2916666666666669, 0.32916666666666694, 0.26666666666666694, 0.26666666666666694, 0.22500000000000028, 0.1750000000000003, 0.30000000000000027, 0.36250000000000027, 0.48750000000000027, 0.4375000000000003, 0.3125000000000002, 0.3125000000000002, 0.2875000000000002, 0.3500000000000002, 0.2875000000000002, 0.1625000000000002, 0.16250000000000017, 0.16250000000000017, 0.22500000000000017, 0.2750000000000002, 0.27500000000000024, 0.3125000000000002, 0.40000000000000024, 0.40000000000000024, 0.42500000000000027, 0.4750000000000003, 0.3250000000000003, 0.4000000000000003, 0.37500000000000033, 0.2875000000000003, 0.3500000000000003, 0.2750000000000003, 0.1750000000000003, 0.23750000000000027, 0.23750000000000027, 0.2708333333333336, 0.3333333333333336, 0.2708333333333336, 0.2583333333333336, 0.17500000000000027, 0.11250000000000027, 0.10000000000000026, 0.10000000000000024, 0.10000000000000024, 0.10000000000000024, 0.05000000000000024, 2.3592239273284576e-16, 0.06250000000000024, 0.18750000000000022, 0.2375000000000002, 0.2375000000000002, 0.1750000000000002, 0.13333333333333353, 0.23333333333333356, 0.23333333333333356, 0.28333333333333355, 0.2500000000000002, 0.1416666666666669, 0.1416666666666669, 0.1541666666666669, 0.2291666666666669, 0.27083333333333354, 0.5208333333333335, 0.4583333333333335, 0.3333333333333335]}, {\"mode\": \"lines\", \"name\": \"2020 daily_avg\", \"type\": \"scatter\", \"x\": [0, 1, 2, 3, 4, 5, 6, 7, 8, 9, 10, 11, 12, 13, 14, 15, 16, 17, 18, 19, 20, 21, 22, 23, 24, 25, 26, 27, 28, 29, 30, 31, 32, 33, 34, 35, 36, 37, 38, 39, 40, 41, 42], \"y\": [null, null, null, 0.16666666666666666, 0.10416666666666666, 0.1875, 0.14583333333333334, 0.13333333333333336, 0.23333333333333336, 0.2333333333333334, 0.3583333333333334, 0.47500000000000003, 0.375, 0.2916666666666667, 0.16666666666666669, 0.15625000000000003, 0.15625000000000003, 0.25625000000000003, 0.33958333333333335, 0.18333333333333335, 0.43333333333333335, 0.44047619047619047, 0.4404761904761905, 0.5654761904761905, 0.31547619047619047, 0.20833333333333331, 0.3125, 0.2708333333333333, 0.2708333333333333, 0.3333333333333333, 0.14583333333333331, 0.062499999999999986, 0.062499999999999986, 0.0, 0.12499999999999999, 0.12499999999999999, 0.29166666666666663, 0.37499999999999994, 0.29999999999999993, 0.36249999999999993, 0.24583333333333326, 0.22499999999999992, 0.17499999999999993]}],                        {\"template\": {\"data\": {\"bar\": [{\"error_x\": {\"color\": \"#2a3f5f\"}, \"error_y\": {\"color\": \"#2a3f5f\"}, \"marker\": {\"line\": {\"color\": \"#E5ECF6\", \"width\": 0.5}}, \"type\": \"bar\"}], \"barpolar\": [{\"marker\": {\"line\": {\"color\": \"#E5ECF6\", \"width\": 0.5}}, \"type\": \"barpolar\"}], \"carpet\": [{\"aaxis\": {\"endlinecolor\": \"#2a3f5f\", \"gridcolor\": \"white\", \"linecolor\": \"white\", \"minorgridcolor\": \"white\", \"startlinecolor\": \"#2a3f5f\"}, \"baxis\": {\"endlinecolor\": \"#2a3f5f\", \"gridcolor\": \"white\", \"linecolor\": \"white\", \"minorgridcolor\": \"white\", \"startlinecolor\": \"#2a3f5f\"}, \"type\": \"carpet\"}], \"choropleth\": [{\"colorbar\": {\"outlinewidth\": 0, \"ticks\": \"\"}, \"type\": \"choropleth\"}], \"contour\": [{\"colorbar\": {\"outlinewidth\": 0, \"ticks\": \"\"}, \"colorscale\": [[0.0, \"#0d0887\"], [0.1111111111111111, \"#46039f\"], [0.2222222222222222, \"#7201a8\"], [0.3333333333333333, \"#9c179e\"], [0.4444444444444444, \"#bd3786\"], [0.5555555555555556, \"#d8576b\"], [0.6666666666666666, \"#ed7953\"], [0.7777777777777778, \"#fb9f3a\"], [0.8888888888888888, \"#fdca26\"], [1.0, \"#f0f921\"]], \"type\": \"contour\"}], \"contourcarpet\": [{\"colorbar\": {\"outlinewidth\": 0, \"ticks\": \"\"}, \"type\": \"contourcarpet\"}], \"heatmap\": [{\"colorbar\": {\"outlinewidth\": 0, \"ticks\": \"\"}, \"colorscale\": [[0.0, \"#0d0887\"], [0.1111111111111111, \"#46039f\"], [0.2222222222222222, \"#7201a8\"], [0.3333333333333333, \"#9c179e\"], [0.4444444444444444, \"#bd3786\"], [0.5555555555555556, \"#d8576b\"], [0.6666666666666666, \"#ed7953\"], [0.7777777777777778, \"#fb9f3a\"], [0.8888888888888888, \"#fdca26\"], [1.0, \"#f0f921\"]], \"type\": \"heatmap\"}], \"heatmapgl\": [{\"colorbar\": {\"outlinewidth\": 0, \"ticks\": \"\"}, \"colorscale\": [[0.0, \"#0d0887\"], [0.1111111111111111, \"#46039f\"], [0.2222222222222222, \"#7201a8\"], [0.3333333333333333, \"#9c179e\"], [0.4444444444444444, \"#bd3786\"], [0.5555555555555556, \"#d8576b\"], [0.6666666666666666, \"#ed7953\"], [0.7777777777777778, \"#fb9f3a\"], [0.8888888888888888, \"#fdca26\"], [1.0, \"#f0f921\"]], \"type\": \"heatmapgl\"}], \"histogram\": [{\"marker\": {\"colorbar\": {\"outlinewidth\": 0, \"ticks\": \"\"}}, \"type\": \"histogram\"}], \"histogram2d\": [{\"colorbar\": {\"outlinewidth\": 0, \"ticks\": \"\"}, \"colorscale\": [[0.0, \"#0d0887\"], [0.1111111111111111, \"#46039f\"], [0.2222222222222222, \"#7201a8\"], [0.3333333333333333, \"#9c179e\"], [0.4444444444444444, \"#bd3786\"], [0.5555555555555556, \"#d8576b\"], [0.6666666666666666, \"#ed7953\"], [0.7777777777777778, \"#fb9f3a\"], [0.8888888888888888, \"#fdca26\"], [1.0, \"#f0f921\"]], \"type\": \"histogram2d\"}], \"histogram2dcontour\": [{\"colorbar\": {\"outlinewidth\": 0, \"ticks\": \"\"}, \"colorscale\": [[0.0, \"#0d0887\"], [0.1111111111111111, \"#46039f\"], [0.2222222222222222, \"#7201a8\"], [0.3333333333333333, \"#9c179e\"], [0.4444444444444444, \"#bd3786\"], [0.5555555555555556, \"#d8576b\"], [0.6666666666666666, \"#ed7953\"], [0.7777777777777778, \"#fb9f3a\"], [0.8888888888888888, \"#fdca26\"], [1.0, \"#f0f921\"]], \"type\": \"histogram2dcontour\"}], \"mesh3d\": [{\"colorbar\": {\"outlinewidth\": 0, \"ticks\": \"\"}, \"type\": \"mesh3d\"}], \"parcoords\": [{\"line\": {\"colorbar\": {\"outlinewidth\": 0, \"ticks\": \"\"}}, \"type\": \"parcoords\"}], \"pie\": [{\"automargin\": true, \"type\": \"pie\"}], \"scatter\": [{\"marker\": {\"colorbar\": {\"outlinewidth\": 0, \"ticks\": \"\"}}, \"type\": \"scatter\"}], \"scatter3d\": [{\"line\": {\"colorbar\": {\"outlinewidth\": 0, \"ticks\": \"\"}}, \"marker\": {\"colorbar\": {\"outlinewidth\": 0, \"ticks\": \"\"}}, \"type\": \"scatter3d\"}], \"scattercarpet\": [{\"marker\": {\"colorbar\": {\"outlinewidth\": 0, \"ticks\": \"\"}}, \"type\": \"scattercarpet\"}], \"scattergeo\": [{\"marker\": {\"colorbar\": {\"outlinewidth\": 0, \"ticks\": \"\"}}, \"type\": \"scattergeo\"}], \"scattergl\": [{\"marker\": {\"colorbar\": {\"outlinewidth\": 0, \"ticks\": \"\"}}, \"type\": \"scattergl\"}], \"scattermapbox\": [{\"marker\": {\"colorbar\": {\"outlinewidth\": 0, \"ticks\": \"\"}}, \"type\": \"scattermapbox\"}], \"scatterpolar\": [{\"marker\": {\"colorbar\": {\"outlinewidth\": 0, \"ticks\": \"\"}}, \"type\": \"scatterpolar\"}], \"scatterpolargl\": [{\"marker\": {\"colorbar\": {\"outlinewidth\": 0, \"ticks\": \"\"}}, \"type\": \"scatterpolargl\"}], \"scatterternary\": [{\"marker\": {\"colorbar\": {\"outlinewidth\": 0, \"ticks\": \"\"}}, \"type\": \"scatterternary\"}], \"surface\": [{\"colorbar\": {\"outlinewidth\": 0, \"ticks\": \"\"}, \"colorscale\": [[0.0, \"#0d0887\"], [0.1111111111111111, \"#46039f\"], [0.2222222222222222, \"#7201a8\"], [0.3333333333333333, \"#9c179e\"], [0.4444444444444444, \"#bd3786\"], [0.5555555555555556, \"#d8576b\"], [0.6666666666666666, \"#ed7953\"], [0.7777777777777778, \"#fb9f3a\"], [0.8888888888888888, \"#fdca26\"], [1.0, \"#f0f921\"]], \"type\": \"surface\"}], \"table\": [{\"cells\": {\"fill\": {\"color\": \"#EBF0F8\"}, \"line\": {\"color\": \"white\"}}, \"header\": {\"fill\": {\"color\": \"#C8D4E3\"}, \"line\": {\"color\": \"white\"}}, \"type\": \"table\"}]}, \"layout\": {\"annotationdefaults\": {\"arrowcolor\": \"#2a3f5f\", \"arrowhead\": 0, \"arrowwidth\": 1}, \"coloraxis\": {\"colorbar\": {\"outlinewidth\": 0, \"ticks\": \"\"}}, \"colorscale\": {\"diverging\": [[0, \"#8e0152\"], [0.1, \"#c51b7d\"], [0.2, \"#de77ae\"], [0.3, \"#f1b6da\"], [0.4, \"#fde0ef\"], [0.5, \"#f7f7f7\"], [0.6, \"#e6f5d0\"], [0.7, \"#b8e186\"], [0.8, \"#7fbc41\"], [0.9, \"#4d9221\"], [1, \"#276419\"]], \"sequential\": [[0.0, \"#0d0887\"], [0.1111111111111111, \"#46039f\"], [0.2222222222222222, \"#7201a8\"], [0.3333333333333333, \"#9c179e\"], [0.4444444444444444, \"#bd3786\"], [0.5555555555555556, \"#d8576b\"], [0.6666666666666666, \"#ed7953\"], [0.7777777777777778, \"#fb9f3a\"], [0.8888888888888888, \"#fdca26\"], [1.0, \"#f0f921\"]], \"sequentialminus\": [[0.0, \"#0d0887\"], [0.1111111111111111, \"#46039f\"], [0.2222222222222222, \"#7201a8\"], [0.3333333333333333, \"#9c179e\"], [0.4444444444444444, \"#bd3786\"], [0.5555555555555556, \"#d8576b\"], [0.6666666666666666, \"#ed7953\"], [0.7777777777777778, \"#fb9f3a\"], [0.8888888888888888, \"#fdca26\"], [1.0, \"#f0f921\"]]}, \"colorway\": [\"#636efa\", \"#EF553B\", \"#00cc96\", \"#ab63fa\", \"#FFA15A\", \"#19d3f3\", \"#FF6692\", \"#B6E880\", \"#FF97FF\", \"#FECB52\"], \"font\": {\"color\": \"#2a3f5f\"}, \"geo\": {\"bgcolor\": \"white\", \"lakecolor\": \"white\", \"landcolor\": \"#E5ECF6\", \"showlakes\": true, \"showland\": true, \"subunitcolor\": \"white\"}, \"hoverlabel\": {\"align\": \"left\"}, \"hovermode\": \"closest\", \"mapbox\": {\"style\": \"light\"}, \"paper_bgcolor\": \"white\", \"plot_bgcolor\": \"#E5ECF6\", \"polar\": {\"angularaxis\": {\"gridcolor\": \"white\", \"linecolor\": \"white\", \"ticks\": \"\"}, \"bgcolor\": \"#E5ECF6\", \"radialaxis\": {\"gridcolor\": \"white\", \"linecolor\": \"white\", \"ticks\": \"\"}}, \"scene\": {\"xaxis\": {\"backgroundcolor\": \"#E5ECF6\", \"gridcolor\": \"white\", \"gridwidth\": 2, \"linecolor\": \"white\", \"showbackground\": true, \"ticks\": \"\", \"zerolinecolor\": \"white\"}, \"yaxis\": {\"backgroundcolor\": \"#E5ECF6\", \"gridcolor\": \"white\", \"gridwidth\": 2, \"linecolor\": \"white\", \"showbackground\": true, \"ticks\": \"\", \"zerolinecolor\": \"white\"}, \"zaxis\": {\"backgroundcolor\": \"#E5ECF6\", \"gridcolor\": \"white\", \"gridwidth\": 2, \"linecolor\": \"white\", \"showbackground\": true, \"ticks\": \"\", \"zerolinecolor\": \"white\"}}, \"shapedefaults\": {\"line\": {\"color\": \"#2a3f5f\"}}, \"ternary\": {\"aaxis\": {\"gridcolor\": \"white\", \"linecolor\": \"white\", \"ticks\": \"\"}, \"baxis\": {\"gridcolor\": \"white\", \"linecolor\": \"white\", \"ticks\": \"\"}, \"bgcolor\": \"#E5ECF6\", \"caxis\": {\"gridcolor\": \"white\", \"linecolor\": \"white\", \"ticks\": \"\"}}, \"title\": {\"x\": 0.05}, \"xaxis\": {\"automargin\": true, \"gridcolor\": \"white\", \"linecolor\": \"white\", \"ticks\": \"\", \"title\": {\"standoff\": 15}, \"zerolinecolor\": \"white\", \"zerolinewidth\": 2}, \"yaxis\": {\"automargin\": true, \"gridcolor\": \"white\", \"linecolor\": \"white\", \"ticks\": \"\", \"title\": {\"standoff\": 15}, \"zerolinecolor\": \"white\", \"zerolinewidth\": 2}}}},                        {\"responsive\": true}                    ).then(function(){\n",
       "                            \n",
       "var gd = document.getElementById('c146a822-43c1-43c3-879e-a4f40db223d5');\n",
       "var x = new MutationObserver(function (mutations, observer) {{\n",
       "        var display = window.getComputedStyle(gd).display;\n",
       "        if (!display || display === 'none') {{\n",
       "            console.log([gd, 'removed!']);\n",
       "            Plotly.purge(gd);\n",
       "            observer.disconnect();\n",
       "        }}\n",
       "}});\n",
       "\n",
       "// Listen for the removal of the full notebook cells\n",
       "var notebookContainer = gd.closest('#notebook-container');\n",
       "if (notebookContainer) {{\n",
       "    x.observe(notebookContainer, {childList: true});\n",
       "}}\n",
       "\n",
       "// Listen for the clearing of the current output cell\n",
       "var outputEl = gd.closest('.output');\n",
       "if (outputEl) {{\n",
       "    x.observe(outputEl, {childList: true});\n",
       "}}\n",
       "\n",
       "                        })                };                });            </script>        </div>"
      ]
     },
     "metadata": {},
     "output_type": "display_data"
    }
   ],
   "source": [
    "fig.show()"
   ]
  },
  {
   "cell_type": "code",
   "execution_count": null,
   "metadata": {},
   "outputs": [],
   "source": [
    "avg = df.H.astype(int)/df.AB.astype(int)\n",
    "t = avg.fillna(0)"
   ]
  },
  {
   "cell_type": "code",
   "execution_count": null,
   "metadata": {},
   "outputs": [],
   "source": []
  },
  {
   "cell_type": "code",
   "execution_count": null,
   "metadata": {},
   "outputs": [],
   "source": []
  },
  {
   "cell_type": "code",
   "execution_count": null,
   "metadata": {},
   "outputs": [],
   "source": []
  }
 ],
 "metadata": {
  "interpreter": {
   "hash": "40d3a090f54c6569ab1632332b64b2c03c39dcf918b08424e98f38b5ae0af88f"
  },
  "kernelspec": {
   "display_name": "Python 3",
   "language": "python",
   "name": "python3"
  },
  "language_info": {
   "codemirror_mode": {
    "name": "ipython",
    "version": 3
   },
   "file_extension": ".py",
   "mimetype": "text/x-python",
   "name": "python",
   "nbconvert_exporter": "python",
   "pygments_lexer": "ipython3",
   "version": "3.6.12"
  }
 },
 "nbformat": 4,
 "nbformat_minor": 2
}
